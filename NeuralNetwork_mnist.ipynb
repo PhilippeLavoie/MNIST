{
 "cells": [
  {
   "cell_type": "code",
   "execution_count": 73,
   "metadata": {},
   "outputs": [],
   "source": [
    "import numpy as np\n",
    "import pandas as pd\n",
    "import torch\n",
    "import torch.nn as nn\n",
    "import torch.nn.functional as F\n",
    "from torch.utils.data import Dataset, TensorDataset, DataLoader\n",
    "from matplotlib import pyplot as plt"
   ]
  },
  {
   "cell_type": "code",
   "execution_count": 28,
   "metadata": {},
   "outputs": [],
   "source": [
    "# load the data\n",
    "dataset = pd.DataFrame(pd.read_csv('mnist_train.csv', nrows=10000))\n",
    "dataset = dataset.to_numpy()"
   ]
  },
  {
   "cell_type": "code",
   "execution_count": 59,
   "metadata": {},
   "outputs": [],
   "source": [
    "# function to normalize the data\n",
    "def normalize(x):\n",
    "    mean = x.mean(axis=0, keepdims=True)\n",
    "    std = x.std(axis=0, keepdims=True)\n",
    "    index = np.where(std==0)\n",
    "    std[index] = 1\n",
    "    x = (x-mean)/std\n",
    "    return x \n",
    "\n",
    "def vectorize(y):\n",
    "    result = []\n",
    "    for i in y:\n",
    "        temp = np.zeros(10)\n",
    "        temp[i] = 1\n",
    "        result.append(temp)\n",
    "    result = np.array(result)\n",
    "    return result"
   ]
  },
  {
   "cell_type": "code",
   "execution_count": 60,
   "metadata": {},
   "outputs": [
    {
     "name": "stdout",
     "output_type": "stream",
     "text": [
      "(10000, 784)\n",
      "(10000, 10)\n"
     ]
    }
   ],
   "source": [
    "# create numpy array\n",
    "x = dataset[:,1:]\n",
    "y = dataset[:,0]\n",
    "\n",
    "x = normalize(x)\n",
    "y = vectorize(y)\n",
    "\n",
    "print(x.shape)\n",
    "print(y.shape)"
   ]
  },
  {
   "cell_type": "code",
   "execution_count": 61,
   "metadata": {},
   "outputs": [],
   "source": [
    "# create torch tensor\n",
    "x_train_tensor = torch.from_numpy(x).float()\n",
    "y_train_tensor = torch.from_numpy(y).float()\n",
    "\n",
    "train_data = TensorDataset(x_train_tensor, y_train_tensor)\n",
    "train_loader = DataLoader(dataset=train_data, batch_size=10, shuffle=True)"
   ]
  },
  {
   "cell_type": "code",
   "execution_count": 65,
   "metadata": {},
   "outputs": [],
   "source": [
    "# neural network for digit recognition\n",
    "class net(nn.Module):\n",
    "    def __init__(self):\n",
    "        super().__init__()\n",
    "        self.fct1 = nn.Linear(784, 30)\n",
    "        self.fct2 = nn.Linear(30, 20)\n",
    "        self.fct3 = nn.Linear(20, 10)\n",
    "        \n",
    "    def forward(self, x):\n",
    "        x = F.relu(self.fct1(x))\n",
    "        x = F.relu(self.fct2(x))\n",
    "        x = self.fct3(x)\n",
    "        return x\n",
    "    \n",
    "    def predict(self, x):\n",
    "        return torch.argmax(self.forward(x))"
   ]
  },
  {
   "cell_type": "code",
   "execution_count": 68,
   "metadata": {},
   "outputs": [],
   "source": [
    "# function that do a training step\n",
    "def make_train_step(model, loss_fn, optimizer):\n",
    "    \n",
    "    def train_step(x, y):\n",
    "        model.train()\n",
    "        # compute the prediction \n",
    "        y_hat = model(x)\n",
    "        # compute the loss function\n",
    "        loss = loss_fn(y, y_hat)\n",
    "        # back prop\n",
    "        loss.backward()\n",
    "        # optimize\n",
    "        optimizer.step()\n",
    "        optimizer.zero_grad()\n",
    "        return loss.item()\n",
    "    \n",
    "    return train_step"
   ]
  },
  {
   "cell_type": "code",
   "execution_count": 88,
   "metadata": {},
   "outputs": [
    {
     "name": "stdout",
     "output_type": "stream",
     "text": [
      "epoch : 0, loss : 0.07522154599428177\n",
      "epoch : 1, loss : 0.05797078460454941\n",
      "epoch : 2, loss : 0.0524216927587986\n",
      "epoch : 3, loss : 0.05710956081748009\n",
      "epoch : 4, loss : 0.024950070306658745\n",
      "epoch : 5, loss : 0.017939185723662376\n",
      "epoch : 6, loss : 0.02365335449576378\n",
      "epoch : 7, loss : 0.043031930923461914\n",
      "epoch : 8, loss : 0.026775341480970383\n",
      "epoch : 9, loss : 0.008847547695040703\n",
      "epoch : 10, loss : 0.02220810204744339\n",
      "epoch : 11, loss : 0.01657184772193432\n",
      "epoch : 12, loss : 0.029687704518437386\n",
      "epoch : 13, loss : 0.025788290426135063\n",
      "epoch : 14, loss : 0.016234392300248146\n",
      "epoch : 15, loss : 0.02039221301674843\n",
      "epoch : 16, loss : 0.029911452904343605\n",
      "epoch : 17, loss : 0.02062595821917057\n",
      "epoch : 18, loss : 0.025435922667384148\n",
      "epoch : 19, loss : 0.017171049490571022\n",
      "epoch : 20, loss : 0.011641145683825016\n",
      "epoch : 21, loss : 0.0294395349919796\n",
      "epoch : 22, loss : 0.006562746595591307\n",
      "epoch : 23, loss : 0.019671423360705376\n",
      "epoch : 24, loss : 0.02476484701037407\n",
      "epoch : 25, loss : 0.008406493812799454\n",
      "epoch : 26, loss : 0.006795568857342005\n",
      "epoch : 27, loss : 0.01979885809123516\n",
      "epoch : 28, loss : 0.026695504784584045\n",
      "epoch : 29, loss : 0.02413698472082615\n"
     ]
    }
   ],
   "source": [
    "# training loop\n",
    "lr = 1e-2\n",
    "n_epochs = 30\n",
    "\n",
    "model = net()\n",
    "loss_fn = nn.MSELoss(reduction='mean')\n",
    "optimizer = torch.optim.SGD(model.parameters(), lr=lr)\n",
    "\n",
    "train_step = make_train_step(model, loss_fn, optimizer)\n",
    "\n",
    "losses = []\n",
    "for epoch in range(n_epochs):\n",
    "    for x_batch, y_batch in train_loader:\n",
    "        loss = train_step(x_batch, y_batch)\n",
    "        losses.append(loss)\n",
    "    print('epoch : '+str(epoch)+', loss : '+str(loss))\n",
    "    "
   ]
  },
  {
   "cell_type": "code",
   "execution_count": 90,
   "metadata": {},
   "outputs": [
    {
     "data": {
      "text/plain": [
       "[<matplotlib.lines.Line2D at 0x1cc89a52130>]"
      ]
     },
     "execution_count": 90,
     "metadata": {},
     "output_type": "execute_result"
    },
    {
     "data": {
      "image/png": "[encoded data removed]",
      "text/plain": [
       "<Figure size 432x288 with 1 Axes>"
      ]
     },
     "metadata": {
      "needs_background": "light"
     },
     "output_type": "display_data"
    }
   ],
   "source": [
    "# plot the loss\n",
    "epochs = list(range(30000))\n",
    "plt.plot(epochs, losses)"
   ]
  },
  {
   "cell_type": "code",
   "execution_count": 84,
   "metadata": {},
   "outputs": [
    {
     "name": "stdout",
     "output_type": "stream",
     "text": [
      "(10000, 784)\n",
      "(10000,)\n"
     ]
    }
   ],
   "source": [
    "# load the test data\n",
    "dataset_test = pd.DataFrame(pd.read_csv('mnist_test.csv'))\n",
    "dataset_test = dataset_test.to_numpy()"
   ]
  },
  {
   "cell_type": "code",
   "execution_count": 85,
   "metadata": {},
   "outputs": [
    {
     "name": "stdout",
     "output_type": "stream",
     "text": [
      "(10000, 784)\n",
      "(10000,)\n"
     ]
    }
   ],
   "source": [
    "# create torch tensor\n",
    "x_test = dataset_test[:,1:]\n",
    "y_test = dataset_test[:,0]\n",
    "\n",
    "print(x_test.shape)\n",
    "print(y_test.shape)\n",
    "\n",
    "x_test = normalize(x_test)\n",
    "\n",
    "x_test_tensor = torch.from_numpy(x_test).float()\n",
    "y_test_tensor = torch.from_numpy(y_test).float()"
   ]
  },
  {
   "cell_type": "code",
   "execution_count": 93,
   "metadata": {},
   "outputs": [
    {
     "name": "stdout",
     "output_type": "stream",
     "text": [
      "The accuracy of the neural network is 91.71000000000001%\n"
     ]
    }
   ],
   "source": [
    "result = 0\n",
    "for i in range(len(y_test_tensor)):\n",
    "    pred = model.predict(x_test_tensor[i,:])\n",
    "    true_val = y_test_tensor[i]\n",
    "    if pred == true_val:\n",
    "        result += 1\n",
    "        \n",
    "accuracy = (result/len(y_test_tensor))*100\n",
    "print('The accuracy of the neural network is ' + str(accuracy) +'%')"
   ]
  }
 ],
 "metadata": {
  "kernelspec": {
   "display_name": "Python 3",
   "language": "python",
   "name": "python3"
  },
  "language_info": {
   "codemirror_mode": {
    "name": "ipython",
    "version": 3
   },
   "file_extension": ".py",
   "mimetype": "text/x-python",
   "name": "python",
   "nbconvert_exporter": "python",
   "pygments_lexer": "ipython3",
   "version": "3.8.5"
  }
 },
 "nbformat": 4,
 "nbformat_minor": 4
}
